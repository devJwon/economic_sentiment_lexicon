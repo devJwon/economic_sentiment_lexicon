{
  "cells": [
    {
      "cell_type": "markdown",
      "metadata": {
        "id": "view-in-github",
        "colab_type": "text"
      },
      "source": [
        "<a href=\"https://colab.research.google.com/github/devJwon/economic_sentiment_lexicon/blob/main/news_json_parsing_finance.ipynb\" target=\"_parent\"><img src=\"https://colab.research.google.com/assets/colab-badge.svg\" alt=\"Open In Colab\"/></a>"
      ]
    },
    {
      "cell_type": "code",
      "execution_count": 1,
      "metadata": {
        "colab": {
          "base_uri": "https://localhost:8080/"
        },
        "id": "WI9wBNRvg_a3",
        "outputId": "e7bd9c76-2ec5-404e-ed76-9c795c6fbe10"
      },
      "outputs": [
        {
          "output_type": "stream",
          "name": "stdout",
          "text": [
            "Mounted at /content/drive\n"
          ]
        }
      ],
      "source": [
        "from google.colab import drive\n",
        "drive.mount('/content/drive')"
      ]
    },
    {
      "cell_type": "code",
      "source": [
        "!curl -s https://raw.githubusercontent.com/teddylee777/machine-learning/master/99-Misc/01-Colab/mecab-colab.sh | bash"
      ],
      "metadata": {
        "id": "737zXIo3N8nn"
      },
      "execution_count": null,
      "outputs": []
    },
    {
      "cell_type": "code",
      "source": [
        "import pandas as pd\n",
        "from konlpy.tag import Mecab"
      ],
      "metadata": {
        "id": "ulRR99ZnZSTm"
      },
      "execution_count": 3,
      "outputs": []
    },
    {
      "cell_type": "code",
      "execution_count": null,
      "metadata": {
        "id": "1we7Qwow_qr7"
      },
      "outputs": [],
      "source": [
        "# 자료형이 딕셔너리의 경우 키값으로 찾기 ex. json_meta = json_cor.get('metadata')\n",
        "# 자료형이 리스트+딕셔너리일 경우 우선 리스트 index 값으로 접근 후 키값 입력 ex. title = json_docu[0]['metadata']['title']"
      ]
    },
    {
      "cell_type": "code",
      "execution_count": null,
      "metadata": {
        "id": "aSy_vSGh7vG9"
      },
      "outputs": [],
      "source": [
        "#https://www.python2.net/questions-198850.htm\n",
        "import os\n",
        "import json\n",
        "folderpath = r\"/content/drive/Othercomputers/내 MacBook Air/lab/paper/news/NIKL_NEWSPAPER_2021_v1.0/국립국어원 신문 말뭉치 2021(버전 1.0)\" # make sure to put the 'r' in front\n",
        "filepaths  = [os.path.join(folderpath, name) for name in os.listdir(folderpath)]\n",
        "all_files = []\n",
        "df = pd.DataFrame(columns=['date', 'news'])\n",
        "for path in filepaths:\n",
        "    with open(path, 'r') as json_file:\n",
        "         #읽은 파일을 제이슨 형식으로 형변환\n",
        "        json_cor = json.load(json_file)\n",
        "        json_id =  json_cor.get('id')\n",
        "        json_meta = json_cor.get('metadata')\n",
        "        json_docu = json_cor.get('document')\n",
        "        for i in range (len(json_docu)):\n",
        "            id = json_docu[i]['id']\n",
        "            title = json_docu[i]['metadata']['title']\n",
        "            sentence = json_docu[i]['paragraph']\n",
        "            topic = json_docu[i]['metadata']['topic']\n",
        "            date = json_docu[i]['metadata']['date']\n",
        "            paragraph = ''\n",
        "            if topic == '경제':\n",
        "                for j in range(len(sentence)):\n",
        "                    sent_form = sentence[j]['form']\n",
        "                    paragraph += sent_form\n",
        "                # print(paragraph)\n",
        "                # print(date)\n",
        "                temp = pd.DataFrame([[date, paragraph]], columns=['date', 'news'])\n",
        "                df = pd.concat([df,temp])\n",
        "        # id = json_docu[0]['id']\n",
        "        # title = json_docu[0]['metadata']['title']\n",
        "        # sentence = json_docu[0]['paragraph']\n",
        "        # sent_id = sentence[0]['id']\n",
        "        # sent_form = sentence[0]['form']\n",
        "        # #json_docu는 document = [...]라는 리스트\n",
        "        # #이 document 리스트는 모든 내용이 리스트에 딕셔너리로 저장된 형태이므로 인덱스가 0밖에 없음\n",
        "\n",
        "        # #sentence = json_docu[0]['sentence']['id']\n",
        "        # print(sent_id+': '+sent_form)\n",
        "\n",
        "########################################\n",
        "        \n",
        "        # f = open('/content/drive/MyDrive/4차납품.txt', mode ='a', encoding='utf-8')\n",
        "        # for i in range (len(json_docu)):\n",
        "        #     id = json_docu[i]['id']\n",
        "        #     title = json_docu[i]['metadata']['title']\n",
        "        #     sentence = json_docu[i]['sentence']\n",
        "        #     for j in range(len(sentence)):\n",
        "        #         sent_id = sentence[j]['id']\n",
        "        #         sent_form = sentence[j]['form']\n",
        "        #         #print(id+':'+title+'\\n'+sent_id+'\\t'+sent_form)\n",
        "        #         f.write('\\t'+id+':'+title+'\\n'+sent_id+':'+sent_form)\n",
        "        # f.close()\n"
      ]
    },
    {
      "cell_type": "code",
      "source": [
        "mecab = Mecab()\n",
        "\n",
        "news = pd.read_csv('/content/drive/Othercomputers/내 MacBook Air/lab/paper/news.csv')"
      ],
      "metadata": {
        "id": "QYSFrvO2NDeo"
      },
      "execution_count": 12,
      "outputs": []
    },
    {
      "cell_type": "code",
      "source": [
        "text_series = news['news']\n",
        "\n",
        "s = text_series.str.contains('코스피')\n",
        "\n",
        "news[s]"
      ],
      "metadata": {
        "id": "6myCJ9q-C1Ef",
        "outputId": "a4cb7c97-4e7c-43f3-f248-2b971dec552a",
        "colab": {
          "base_uri": "https://localhost:8080/",
          "height": 423
        }
      },
      "execution_count": 13,
      "outputs": [
        {
          "output_type": "execute_result",
          "data": {
            "text/plain": [
              "        Unnamed: 0      date  \\\n",
              "9                9  20200102   \n",
              "19              19  20200102   \n",
              "56              56  20200105   \n",
              "57              57  20200105   \n",
              "59              59  20200105   \n",
              "...            ...       ...   \n",
              "126143      126143  20201225   \n",
              "126146      126146  20201226   \n",
              "126149      126149  20201228   \n",
              "126155      126155  20201228   \n",
              "126167      126167  20201229   \n",
              "\n",
              "                                                     news  \n",
              "9       증시 수익률 효자 IT…\"54% 올랐다\"지난해 증시 수익률 효자가 IT섹터인 것으로...  \n",
              "19      2020년 증시 흔들 대내외 변수보니…결국 트럼프올해 국내 증시에 커다란 영향을 미...  \n",
              "56      주식거래도 모바일이 주인공…MTS 사상 첫 1위스마트폰으로 주식을 거래하는 모바일트...  \n",
              "57      '다시 안전자산?' 저울질하는 투자자들…금값도 들썩새해 투자 전략으로 위험자산과 안...  \n",
              "59      삼성증권 \"올해 해외주식 키워드는 '마이스·체인지'\"삼성증권은 경자년인 올해 글로벌...  \n",
              "...                                                   ...  \n",
              "126143  한국의 버핏, 작두 타던 매니저는 왜 여의도를 떠났을까“쉬고, 운동하고 책 보면서 ...  \n",
              "126146  올해 전세계 기업이 주식 찍어 조달한 돈 1조달러 첫 돌파올해 전 세계 기업들이 유...  \n",
              "126149  '박스피' 넘자 '삼천피' 말 나오는 코스피2011년 이후 항상 1800~2600선...  \n",
              "126155  주식 거래세 인하… 도심 제한속도 시속 50㎞로▲금융소비자보호법 시행=은행 등 금융...  \n",
              "126167  글로벌 증시 달구는 '팩토리 랠리'(제조업 국가 중심 상승장)… 수출 많은 나라들이...  \n",
              "\n",
              "[7276 rows x 3 columns]"
            ],
            "text/html": [
              "\n",
              "  <div id=\"df-ac6a13d1-01af-4728-a223-c0c09c5de9e9\">\n",
              "    <div class=\"colab-df-container\">\n",
              "      <div>\n",
              "<style scoped>\n",
              "    .dataframe tbody tr th:only-of-type {\n",
              "        vertical-align: middle;\n",
              "    }\n",
              "\n",
              "    .dataframe tbody tr th {\n",
              "        vertical-align: top;\n",
              "    }\n",
              "\n",
              "    .dataframe thead th {\n",
              "        text-align: right;\n",
              "    }\n",
              "</style>\n",
              "<table border=\"1\" class=\"dataframe\">\n",
              "  <thead>\n",
              "    <tr style=\"text-align: right;\">\n",
              "      <th></th>\n",
              "      <th>Unnamed: 0</th>\n",
              "      <th>date</th>\n",
              "      <th>news</th>\n",
              "    </tr>\n",
              "  </thead>\n",
              "  <tbody>\n",
              "    <tr>\n",
              "      <th>9</th>\n",
              "      <td>9</td>\n",
              "      <td>20200102</td>\n",
              "      <td>증시 수익률 효자 IT…\"54% 올랐다\"지난해 증시 수익률 효자가 IT섹터인 것으로...</td>\n",
              "    </tr>\n",
              "    <tr>\n",
              "      <th>19</th>\n",
              "      <td>19</td>\n",
              "      <td>20200102</td>\n",
              "      <td>2020년 증시 흔들 대내외 변수보니…결국 트럼프올해 국내 증시에 커다란 영향을 미...</td>\n",
              "    </tr>\n",
              "    <tr>\n",
              "      <th>56</th>\n",
              "      <td>56</td>\n",
              "      <td>20200105</td>\n",
              "      <td>주식거래도 모바일이 주인공…MTS 사상 첫 1위스마트폰으로 주식을 거래하는 모바일트...</td>\n",
              "    </tr>\n",
              "    <tr>\n",
              "      <th>57</th>\n",
              "      <td>57</td>\n",
              "      <td>20200105</td>\n",
              "      <td>'다시 안전자산?' 저울질하는 투자자들…금값도 들썩새해 투자 전략으로 위험자산과 안...</td>\n",
              "    </tr>\n",
              "    <tr>\n",
              "      <th>59</th>\n",
              "      <td>59</td>\n",
              "      <td>20200105</td>\n",
              "      <td>삼성증권 \"올해 해외주식 키워드는 '마이스·체인지'\"삼성증권은 경자년인 올해 글로벌...</td>\n",
              "    </tr>\n",
              "    <tr>\n",
              "      <th>...</th>\n",
              "      <td>...</td>\n",
              "      <td>...</td>\n",
              "      <td>...</td>\n",
              "    </tr>\n",
              "    <tr>\n",
              "      <th>126143</th>\n",
              "      <td>126143</td>\n",
              "      <td>20201225</td>\n",
              "      <td>한국의 버핏, 작두 타던 매니저는 왜 여의도를 떠났을까“쉬고, 운동하고 책 보면서 ...</td>\n",
              "    </tr>\n",
              "    <tr>\n",
              "      <th>126146</th>\n",
              "      <td>126146</td>\n",
              "      <td>20201226</td>\n",
              "      <td>올해 전세계 기업이 주식 찍어 조달한 돈 1조달러 첫 돌파올해 전 세계 기업들이 유...</td>\n",
              "    </tr>\n",
              "    <tr>\n",
              "      <th>126149</th>\n",
              "      <td>126149</td>\n",
              "      <td>20201228</td>\n",
              "      <td>'박스피' 넘자 '삼천피' 말 나오는 코스피2011년 이후 항상 1800~2600선...</td>\n",
              "    </tr>\n",
              "    <tr>\n",
              "      <th>126155</th>\n",
              "      <td>126155</td>\n",
              "      <td>20201228</td>\n",
              "      <td>주식 거래세 인하… 도심 제한속도 시속 50㎞로▲금융소비자보호법 시행=은행 등 금융...</td>\n",
              "    </tr>\n",
              "    <tr>\n",
              "      <th>126167</th>\n",
              "      <td>126167</td>\n",
              "      <td>20201229</td>\n",
              "      <td>글로벌 증시 달구는 '팩토리 랠리'(제조업 국가 중심 상승장)… 수출 많은 나라들이...</td>\n",
              "    </tr>\n",
              "  </tbody>\n",
              "</table>\n",
              "<p>7276 rows × 3 columns</p>\n",
              "</div>\n",
              "      <button class=\"colab-df-convert\" onclick=\"convertToInteractive('df-ac6a13d1-01af-4728-a223-c0c09c5de9e9')\"\n",
              "              title=\"Convert this dataframe to an interactive table.\"\n",
              "              style=\"display:none;\">\n",
              "        \n",
              "  <svg xmlns=\"http://www.w3.org/2000/svg\" height=\"24px\"viewBox=\"0 0 24 24\"\n",
              "       width=\"24px\">\n",
              "    <path d=\"M0 0h24v24H0V0z\" fill=\"none\"/>\n",
              "    <path d=\"M18.56 5.44l.94 2.06.94-2.06 2.06-.94-2.06-.94-.94-2.06-.94 2.06-2.06.94zm-11 1L8.5 8.5l.94-2.06 2.06-.94-2.06-.94L8.5 2.5l-.94 2.06-2.06.94zm10 10l.94 2.06.94-2.06 2.06-.94-2.06-.94-.94-2.06-.94 2.06-2.06.94z\"/><path d=\"M17.41 7.96l-1.37-1.37c-.4-.4-.92-.59-1.43-.59-.52 0-1.04.2-1.43.59L10.3 9.45l-7.72 7.72c-.78.78-.78 2.05 0 2.83L4 21.41c.39.39.9.59 1.41.59.51 0 1.02-.2 1.41-.59l7.78-7.78 2.81-2.81c.8-.78.8-2.07 0-2.86zM5.41 20L4 18.59l7.72-7.72 1.47 1.35L5.41 20z\"/>\n",
              "  </svg>\n",
              "      </button>\n",
              "      \n",
              "  <style>\n",
              "    .colab-df-container {\n",
              "      display:flex;\n",
              "      flex-wrap:wrap;\n",
              "      gap: 12px;\n",
              "    }\n",
              "\n",
              "    .colab-df-convert {\n",
              "      background-color: #E8F0FE;\n",
              "      border: none;\n",
              "      border-radius: 50%;\n",
              "      cursor: pointer;\n",
              "      display: none;\n",
              "      fill: #1967D2;\n",
              "      height: 32px;\n",
              "      padding: 0 0 0 0;\n",
              "      width: 32px;\n",
              "    }\n",
              "\n",
              "    .colab-df-convert:hover {\n",
              "      background-color: #E2EBFA;\n",
              "      box-shadow: 0px 1px 2px rgba(60, 64, 67, 0.3), 0px 1px 3px 1px rgba(60, 64, 67, 0.15);\n",
              "      fill: #174EA6;\n",
              "    }\n",
              "\n",
              "    [theme=dark] .colab-df-convert {\n",
              "      background-color: #3B4455;\n",
              "      fill: #D2E3FC;\n",
              "    }\n",
              "\n",
              "    [theme=dark] .colab-df-convert:hover {\n",
              "      background-color: #434B5C;\n",
              "      box-shadow: 0px 1px 3px 1px rgba(0, 0, 0, 0.15);\n",
              "      filter: drop-shadow(0px 1px 2px rgba(0, 0, 0, 0.3));\n",
              "      fill: #FFFFFF;\n",
              "    }\n",
              "  </style>\n",
              "\n",
              "      <script>\n",
              "        const buttonEl =\n",
              "          document.querySelector('#df-ac6a13d1-01af-4728-a223-c0c09c5de9e9 button.colab-df-convert');\n",
              "        buttonEl.style.display =\n",
              "          google.colab.kernel.accessAllowed ? 'block' : 'none';\n",
              "\n",
              "        async function convertToInteractive(key) {\n",
              "          const element = document.querySelector('#df-ac6a13d1-01af-4728-a223-c0c09c5de9e9');\n",
              "          const dataTable =\n",
              "            await google.colab.kernel.invokeFunction('convertToInteractive',\n",
              "                                                     [key], {});\n",
              "          if (!dataTable) return;\n",
              "\n",
              "          const docLinkHtml = 'Like what you see? Visit the ' +\n",
              "            '<a target=\"_blank\" href=https://colab.research.google.com/notebooks/data_table.ipynb>data table notebook</a>'\n",
              "            + ' to learn more about interactive tables.';\n",
              "          element.innerHTML = '';\n",
              "          dataTable['output_type'] = 'display_data';\n",
              "          await google.colab.output.renderOutput(dataTable, element);\n",
              "          const docLink = document.createElement('div');\n",
              "          docLink.innerHTML = docLinkHtml;\n",
              "          element.appendChild(docLink);\n",
              "        }\n",
              "      </script>\n",
              "    </div>\n",
              "  </div>\n",
              "  "
            ]
          },
          "metadata": {},
          "execution_count": 13
        }
      ]
    },
    {
      "cell_type": "code",
      "source": [
        "kospi_news = news[s]\n",
        "kospi_news = kospi_news.reset_index()\n",
        "kospi_news = kospi_news[['date', 'news']]\n",
        "kospi_news.head()"
      ],
      "metadata": {
        "id": "ElWF70rRBx71",
        "outputId": "66dcef10-cb28-4aad-dbb3-925fb60cb4fc",
        "colab": {
          "base_uri": "https://localhost:8080/",
          "height": 206
        }
      },
      "execution_count": 19,
      "outputs": [
        {
          "output_type": "execute_result",
          "data": {
            "text/plain": [
              "       date                                               news\n",
              "0  20200102  증시 수익률 효자 IT…\"54% 올랐다\"지난해 증시 수익률 효자가 IT섹터인 것으로...\n",
              "1  20200102  2020년 증시 흔들 대내외 변수보니…결국 트럼프올해 국내 증시에 커다란 영향을 미...\n",
              "2  20200105  주식거래도 모바일이 주인공…MTS 사상 첫 1위스마트폰으로 주식을 거래하는 모바일트...\n",
              "3  20200105  '다시 안전자산?' 저울질하는 투자자들…금값도 들썩새해 투자 전략으로 위험자산과 안...\n",
              "4  20200105  삼성증권 \"올해 해외주식 키워드는 '마이스·체인지'\"삼성증권은 경자년인 올해 글로벌..."
            ],
            "text/html": [
              "\n",
              "  <div id=\"df-d16a8f63-2cfb-42e3-ac91-85907c354b42\">\n",
              "    <div class=\"colab-df-container\">\n",
              "      <div>\n",
              "<style scoped>\n",
              "    .dataframe tbody tr th:only-of-type {\n",
              "        vertical-align: middle;\n",
              "    }\n",
              "\n",
              "    .dataframe tbody tr th {\n",
              "        vertical-align: top;\n",
              "    }\n",
              "\n",
              "    .dataframe thead th {\n",
              "        text-align: right;\n",
              "    }\n",
              "</style>\n",
              "<table border=\"1\" class=\"dataframe\">\n",
              "  <thead>\n",
              "    <tr style=\"text-align: right;\">\n",
              "      <th></th>\n",
              "      <th>date</th>\n",
              "      <th>news</th>\n",
              "    </tr>\n",
              "  </thead>\n",
              "  <tbody>\n",
              "    <tr>\n",
              "      <th>0</th>\n",
              "      <td>20200102</td>\n",
              "      <td>증시 수익률 효자 IT…\"54% 올랐다\"지난해 증시 수익률 효자가 IT섹터인 것으로...</td>\n",
              "    </tr>\n",
              "    <tr>\n",
              "      <th>1</th>\n",
              "      <td>20200102</td>\n",
              "      <td>2020년 증시 흔들 대내외 변수보니…결국 트럼프올해 국내 증시에 커다란 영향을 미...</td>\n",
              "    </tr>\n",
              "    <tr>\n",
              "      <th>2</th>\n",
              "      <td>20200105</td>\n",
              "      <td>주식거래도 모바일이 주인공…MTS 사상 첫 1위스마트폰으로 주식을 거래하는 모바일트...</td>\n",
              "    </tr>\n",
              "    <tr>\n",
              "      <th>3</th>\n",
              "      <td>20200105</td>\n",
              "      <td>'다시 안전자산?' 저울질하는 투자자들…금값도 들썩새해 투자 전략으로 위험자산과 안...</td>\n",
              "    </tr>\n",
              "    <tr>\n",
              "      <th>4</th>\n",
              "      <td>20200105</td>\n",
              "      <td>삼성증권 \"올해 해외주식 키워드는 '마이스·체인지'\"삼성증권은 경자년인 올해 글로벌...</td>\n",
              "    </tr>\n",
              "  </tbody>\n",
              "</table>\n",
              "</div>\n",
              "      <button class=\"colab-df-convert\" onclick=\"convertToInteractive('df-d16a8f63-2cfb-42e3-ac91-85907c354b42')\"\n",
              "              title=\"Convert this dataframe to an interactive table.\"\n",
              "              style=\"display:none;\">\n",
              "        \n",
              "  <svg xmlns=\"http://www.w3.org/2000/svg\" height=\"24px\"viewBox=\"0 0 24 24\"\n",
              "       width=\"24px\">\n",
              "    <path d=\"M0 0h24v24H0V0z\" fill=\"none\"/>\n",
              "    <path d=\"M18.56 5.44l.94 2.06.94-2.06 2.06-.94-2.06-.94-.94-2.06-.94 2.06-2.06.94zm-11 1L8.5 8.5l.94-2.06 2.06-.94-2.06-.94L8.5 2.5l-.94 2.06-2.06.94zm10 10l.94 2.06.94-2.06 2.06-.94-2.06-.94-.94-2.06-.94 2.06-2.06.94z\"/><path d=\"M17.41 7.96l-1.37-1.37c-.4-.4-.92-.59-1.43-.59-.52 0-1.04.2-1.43.59L10.3 9.45l-7.72 7.72c-.78.78-.78 2.05 0 2.83L4 21.41c.39.39.9.59 1.41.59.51 0 1.02-.2 1.41-.59l7.78-7.78 2.81-2.81c.8-.78.8-2.07 0-2.86zM5.41 20L4 18.59l7.72-7.72 1.47 1.35L5.41 20z\"/>\n",
              "  </svg>\n",
              "      </button>\n",
              "      \n",
              "  <style>\n",
              "    .colab-df-container {\n",
              "      display:flex;\n",
              "      flex-wrap:wrap;\n",
              "      gap: 12px;\n",
              "    }\n",
              "\n",
              "    .colab-df-convert {\n",
              "      background-color: #E8F0FE;\n",
              "      border: none;\n",
              "      border-radius: 50%;\n",
              "      cursor: pointer;\n",
              "      display: none;\n",
              "      fill: #1967D2;\n",
              "      height: 32px;\n",
              "      padding: 0 0 0 0;\n",
              "      width: 32px;\n",
              "    }\n",
              "\n",
              "    .colab-df-convert:hover {\n",
              "      background-color: #E2EBFA;\n",
              "      box-shadow: 0px 1px 2px rgba(60, 64, 67, 0.3), 0px 1px 3px 1px rgba(60, 64, 67, 0.15);\n",
              "      fill: #174EA6;\n",
              "    }\n",
              "\n",
              "    [theme=dark] .colab-df-convert {\n",
              "      background-color: #3B4455;\n",
              "      fill: #D2E3FC;\n",
              "    }\n",
              "\n",
              "    [theme=dark] .colab-df-convert:hover {\n",
              "      background-color: #434B5C;\n",
              "      box-shadow: 0px 1px 3px 1px rgba(0, 0, 0, 0.15);\n",
              "      filter: drop-shadow(0px 1px 2px rgba(0, 0, 0, 0.3));\n",
              "      fill: #FFFFFF;\n",
              "    }\n",
              "  </style>\n",
              "\n",
              "      <script>\n",
              "        const buttonEl =\n",
              "          document.querySelector('#df-d16a8f63-2cfb-42e3-ac91-85907c354b42 button.colab-df-convert');\n",
              "        buttonEl.style.display =\n",
              "          google.colab.kernel.accessAllowed ? 'block' : 'none';\n",
              "\n",
              "        async function convertToInteractive(key) {\n",
              "          const element = document.querySelector('#df-d16a8f63-2cfb-42e3-ac91-85907c354b42');\n",
              "          const dataTable =\n",
              "            await google.colab.kernel.invokeFunction('convertToInteractive',\n",
              "                                                     [key], {});\n",
              "          if (!dataTable) return;\n",
              "\n",
              "          const docLinkHtml = 'Like what you see? Visit the ' +\n",
              "            '<a target=\"_blank\" href=https://colab.research.google.com/notebooks/data_table.ipynb>data table notebook</a>'\n",
              "            + ' to learn more about interactive tables.';\n",
              "          element.innerHTML = '';\n",
              "          dataTable['output_type'] = 'display_data';\n",
              "          await google.colab.output.renderOutput(dataTable, element);\n",
              "          const docLink = document.createElement('div');\n",
              "          docLink.innerHTML = docLinkHtml;\n",
              "          element.appendChild(docLink);\n",
              "        }\n",
              "      </script>\n",
              "    </div>\n",
              "  </div>\n",
              "  "
            ]
          },
          "metadata": {},
          "execution_count": 19
        }
      ]
    },
    {
      "cell_type": "code",
      "source": [
        "type(kospi_news['date'][1])"
      ],
      "metadata": {
        "id": "Ve4QmW2kCgRM",
        "outputId": "d7a970f1-38e1-464c-af4b-7c1da785c2fc",
        "colab": {
          "base_uri": "https://localhost:8080/"
        }
      },
      "execution_count": 23,
      "outputs": [
        {
          "output_type": "execute_result",
          "data": {
            "text/plain": [
              "numpy.int64"
            ]
          },
          "metadata": {},
          "execution_count": 23
        }
      ]
    },
    {
      "cell_type": "code",
      "source": [
        "kospi_news.to_csv('/content/drive/Othercomputers/내 MacBook Air/lab/paper/code/kospi_new.csv')"
      ],
      "metadata": {
        "id": "UAlmQAEuFPh3"
      },
      "execution_count": 22,
      "outputs": []
    },
    {
      "cell_type": "code",
      "source": [
        "!pip install finance-datareader"
      ],
      "metadata": {
        "id": "0sdRj4RMFcvc"
      },
      "execution_count": null,
      "outputs": []
    },
    {
      "cell_type": "code",
      "source": [
        "import FinanceDataReader as fdr\n",
        "\n",
        "stock = fdr.DataReader('KS11','2020','20210101')"
      ],
      "metadata": {
        "id": "3K8wALEKMqnY",
        "outputId": "6e27712e-ea86-4613-ee71-e4fef541c825",
        "colab": {
          "base_uri": "https://localhost:8080/",
          "height": 373
        }
      },
      "execution_count": 31,
      "outputs": [
        {
          "output_type": "error",
          "ename": "KeyError",
          "evalue": "ignored",
          "traceback": [
            "\u001b[0;31m---------------------------------------------------------------------------\u001b[0m",
            "\u001b[0;31mKeyError\u001b[0m                                  Traceback (most recent call last)",
            "\u001b[0;32m<ipython-input-31-0a1404981d23>\u001b[0m in \u001b[0;36m<module>\u001b[0;34m()\u001b[0m\n\u001b[1;32m      2\u001b[0m \u001b[0;34m\u001b[0m\u001b[0m\n\u001b[1;32m      3\u001b[0m \u001b[0mstock\u001b[0m \u001b[0;34m=\u001b[0m \u001b[0mfdr\u001b[0m\u001b[0;34m.\u001b[0m\u001b[0mDataReader\u001b[0m\u001b[0;34m(\u001b[0m\u001b[0;34m'KS11'\u001b[0m\u001b[0;34m,\u001b[0m\u001b[0;34m'2020'\u001b[0m\u001b[0;34m,\u001b[0m\u001b[0;34m'20210101'\u001b[0m\u001b[0;34m)\u001b[0m\u001b[0;34m\u001b[0m\u001b[0;34m\u001b[0m\u001b[0m\n\u001b[0;32m----> 4\u001b[0;31m \u001b[0mstock\u001b[0m \u001b[0;34m=\u001b[0m \u001b[0mstock\u001b[0m\u001b[0;34m[\u001b[0m\u001b[0;34m[\u001b[0m\u001b[0;34m'Date'\u001b[0m\u001b[0;34m,\u001b[0m\u001b[0;34m'Change'\u001b[0m\u001b[0;34m]\u001b[0m\u001b[0;34m]\u001b[0m\u001b[0;34m\u001b[0m\u001b[0;34m\u001b[0m\u001b[0m\n\u001b[0m\u001b[1;32m      5\u001b[0m \u001b[0mstock\u001b[0m\u001b[0;34m\u001b[0m\u001b[0;34m\u001b[0m\u001b[0m\n",
            "\u001b[0;32m/usr/local/lib/python3.7/dist-packages/pandas/core/frame.py\u001b[0m in \u001b[0;36m__getitem__\u001b[0;34m(self, key)\u001b[0m\n\u001b[1;32m   3462\u001b[0m             \u001b[0;32mif\u001b[0m \u001b[0mis_iterator\u001b[0m\u001b[0;34m(\u001b[0m\u001b[0mkey\u001b[0m\u001b[0;34m)\u001b[0m\u001b[0;34m:\u001b[0m\u001b[0;34m\u001b[0m\u001b[0;34m\u001b[0m\u001b[0m\n\u001b[1;32m   3463\u001b[0m                 \u001b[0mkey\u001b[0m \u001b[0;34m=\u001b[0m \u001b[0mlist\u001b[0m\u001b[0;34m(\u001b[0m\u001b[0mkey\u001b[0m\u001b[0;34m)\u001b[0m\u001b[0;34m\u001b[0m\u001b[0;34m\u001b[0m\u001b[0m\n\u001b[0;32m-> 3464\u001b[0;31m             \u001b[0mindexer\u001b[0m \u001b[0;34m=\u001b[0m \u001b[0mself\u001b[0m\u001b[0;34m.\u001b[0m\u001b[0mloc\u001b[0m\u001b[0;34m.\u001b[0m\u001b[0m_get_listlike_indexer\u001b[0m\u001b[0;34m(\u001b[0m\u001b[0mkey\u001b[0m\u001b[0;34m,\u001b[0m \u001b[0maxis\u001b[0m\u001b[0;34m=\u001b[0m\u001b[0;36m1\u001b[0m\u001b[0;34m)\u001b[0m\u001b[0;34m[\u001b[0m\u001b[0;36m1\u001b[0m\u001b[0;34m]\u001b[0m\u001b[0;34m\u001b[0m\u001b[0;34m\u001b[0m\u001b[0m\n\u001b[0m\u001b[1;32m   3465\u001b[0m \u001b[0;34m\u001b[0m\u001b[0m\n\u001b[1;32m   3466\u001b[0m         \u001b[0;31m# take() does not accept boolean indexers\u001b[0m\u001b[0;34m\u001b[0m\u001b[0;34m\u001b[0m\u001b[0;34m\u001b[0m\u001b[0m\n",
            "\u001b[0;32m/usr/local/lib/python3.7/dist-packages/pandas/core/indexing.py\u001b[0m in \u001b[0;36m_get_listlike_indexer\u001b[0;34m(self, key, axis)\u001b[0m\n\u001b[1;32m   1312\u001b[0m             \u001b[0mkeyarr\u001b[0m\u001b[0;34m,\u001b[0m \u001b[0mindexer\u001b[0m\u001b[0;34m,\u001b[0m \u001b[0mnew_indexer\u001b[0m \u001b[0;34m=\u001b[0m \u001b[0max\u001b[0m\u001b[0;34m.\u001b[0m\u001b[0m_reindex_non_unique\u001b[0m\u001b[0;34m(\u001b[0m\u001b[0mkeyarr\u001b[0m\u001b[0;34m)\u001b[0m\u001b[0;34m\u001b[0m\u001b[0;34m\u001b[0m\u001b[0m\n\u001b[1;32m   1313\u001b[0m \u001b[0;34m\u001b[0m\u001b[0m\n\u001b[0;32m-> 1314\u001b[0;31m         \u001b[0mself\u001b[0m\u001b[0;34m.\u001b[0m\u001b[0m_validate_read_indexer\u001b[0m\u001b[0;34m(\u001b[0m\u001b[0mkeyarr\u001b[0m\u001b[0;34m,\u001b[0m \u001b[0mindexer\u001b[0m\u001b[0;34m,\u001b[0m \u001b[0maxis\u001b[0m\u001b[0;34m)\u001b[0m\u001b[0;34m\u001b[0m\u001b[0;34m\u001b[0m\u001b[0m\n\u001b[0m\u001b[1;32m   1315\u001b[0m \u001b[0;34m\u001b[0m\u001b[0m\n\u001b[1;32m   1316\u001b[0m         if needs_i8_conversion(ax.dtype) or isinstance(\n",
            "\u001b[0;32m/usr/local/lib/python3.7/dist-packages/pandas/core/indexing.py\u001b[0m in \u001b[0;36m_validate_read_indexer\u001b[0;34m(self, key, indexer, axis)\u001b[0m\n\u001b[1;32m   1375\u001b[0m \u001b[0;34m\u001b[0m\u001b[0m\n\u001b[1;32m   1376\u001b[0m             \u001b[0mnot_found\u001b[0m \u001b[0;34m=\u001b[0m \u001b[0mlist\u001b[0m\u001b[0;34m(\u001b[0m\u001b[0mensure_index\u001b[0m\u001b[0;34m(\u001b[0m\u001b[0mkey\u001b[0m\u001b[0;34m)\u001b[0m\u001b[0;34m[\u001b[0m\u001b[0mmissing_mask\u001b[0m\u001b[0;34m.\u001b[0m\u001b[0mnonzero\u001b[0m\u001b[0;34m(\u001b[0m\u001b[0;34m)\u001b[0m\u001b[0;34m[\u001b[0m\u001b[0;36m0\u001b[0m\u001b[0;34m]\u001b[0m\u001b[0;34m]\u001b[0m\u001b[0;34m.\u001b[0m\u001b[0munique\u001b[0m\u001b[0;34m(\u001b[0m\u001b[0;34m)\u001b[0m\u001b[0;34m)\u001b[0m\u001b[0;34m\u001b[0m\u001b[0;34m\u001b[0m\u001b[0m\n\u001b[0;32m-> 1377\u001b[0;31m             \u001b[0;32mraise\u001b[0m \u001b[0mKeyError\u001b[0m\u001b[0;34m(\u001b[0m\u001b[0;34mf\"{not_found} not in index\"\u001b[0m\u001b[0;34m)\u001b[0m\u001b[0;34m\u001b[0m\u001b[0;34m\u001b[0m\u001b[0m\n\u001b[0m\u001b[1;32m   1378\u001b[0m \u001b[0;34m\u001b[0m\u001b[0m\n\u001b[1;32m   1379\u001b[0m \u001b[0;34m\u001b[0m\u001b[0m\n",
            "\u001b[0;31mKeyError\u001b[0m: \"['Date'] not in index\""
          ]
        }
      ]
    },
    {
      "cell_type": "code",
      "source": [
        "stock['Change']"
      ],
      "metadata": {
        "id": "ggQkfe3zPoGc",
        "outputId": "88ace2d4-8492-4712-f2d1-0aa049f20ddc",
        "colab": {
          "base_uri": "https://localhost:8080/"
        }
      },
      "execution_count": 36,
      "outputs": [
        {
          "output_type": "execute_result",
          "data": {
            "text/plain": [
              "Date\n",
              "2020-01-02   -0.0102\n",
              "2020-01-03    0.0006\n",
              "2020-01-06   -0.0098\n",
              "2020-01-07    0.0095\n",
              "2020-01-08   -0.0111\n",
              "               ...  \n",
              "2020-12-23    0.0096\n",
              "2020-12-24    0.0170\n",
              "2020-12-28    0.0006\n",
              "2020-12-29    0.0042\n",
              "2020-12-30    0.0188\n",
              "Name: Change, Length: 248, dtype: float64"
            ]
          },
          "metadata": {},
          "execution_count": 36
        }
      ]
    },
    {
      "cell_type": "code",
      "execution_count": null,
      "metadata": {
        "colab": {
          "base_uri": "https://localhost:8080/"
        },
        "id": "DXDH1S3W_a8b",
        "outputId": "aa451b45-5382-4977-c7b0-c266fcd10dec"
      },
      "outputs": [
        {
          "data": {
            "text/plain": [
              "544"
            ]
          },
          "execution_count": 27,
          "metadata": {},
          "output_type": "execute_result"
        }
      ],
      "source": [
        "# ###########json 낱장 파싱 코드 #############\n",
        "\n",
        "# #파일 읽어오기\n",
        "# with open('/content/drive/MyDrive/잠시실험/SXLS1902008030.json', 'r') as json_file:\n",
        "#     #읽은 파일을 제이슨 형식으로 형변환\n",
        "#     json_cor = json.load(json_file)\n",
        "#     json_document = json_cor.get('sentence')\n",
        "#     #제이슨 내부의 데이터 리스트 get\n",
        "\n",
        "#     #json_paragraph = json_document.get('paragraph')\n",
        "\n",
        "# #print(json_document)\n"
      ]
    },
    {
      "cell_type": "code",
      "execution_count": null,
      "metadata": {
        "id": "OmRzvwuZBqsF"
      },
      "outputs": [],
      "source": [
        "# 연습용\n",
        "#https://www.python2.net/questions-198850.htm\n",
        "# import os\n",
        "# import json\n",
        "# folderpath = r\"/content/drive/MyDrive/분석말뭉치_문서단위\" # make sure to put the 'r' in front\n",
        "# filepaths  = [os.path.join(folderpath, name) for name in os.listdir(folderpath)]\n",
        "# all_files = []\n",
        "# for path in filepaths:\n",
        "#     with open(path, 'r') as json_file:\n",
        "#          #읽은 파일을 제이슨 형식으로 형변환\n",
        "#         json_cor = json.load(json_file)\n",
        "#          #제이슨 내부의 데이터 리스트 get\n",
        "#         json_meta = json_cor.get('metadata')\n",
        "#         json_docu = json_cor.get('document')\n",
        "#         utter = json_docu['utterance']\n",
        "#         #id = json_docu['id']\n",
        "#        #json_paragraph = json_document.get('paragraph')\n",
        "#        #get한 데이터 리스트 내부에 있는 딕셔너리 꺼내오기\n",
        "#         #for document in json_document:\n",
        "#             #json_paragraph = document.get('original_form')\n",
        "#             #print(json_paragraph) #08번 제이슨부터 13번 제이슨의 paragraph가 다 따짐\n",
        "#         print(utter)\n",
        "#         f = open('/content/drive/MyDrive/2차납품.txt', mode ='a', encoding='utf-8')\n",
        "#         for i in range (len(utter)):\n",
        "#             id = utter[i]['id']\n",
        "#             forms = utter[i]['form']\n",
        "#             speaker_id = utter[i]['speaker_id']\n",
        "#             f.write(id+'\\t'+speaker_id+'\\t'+forms+'\\n')\n",
        "#         f.close()\n",
        "\n",
        "# #SBRW2100000003 문제: 0kb일 경우 파싱 안됨\n"
      ]
    },
    {
      "cell_type": "code",
      "execution_count": null,
      "metadata": {
        "id": "cVcLzMLcM8Az"
      },
      "outputs": [],
      "source": [
        "# # 연습용2\n",
        "# #https://www.python2.net/questions-198850.htm\n",
        "# import os\n",
        "# import json\n",
        "# folderpath = r\"/content/drive/MyDrive/분석말뭉치_문서단위\" # make sure to put the 'r' in front\n",
        "# filepaths  = [os.path.join(folderpath, name) for name in os.listdir(folderpath)]\n",
        "# all_files = []\n",
        "# for path in filepaths:\n",
        "#     with open(path, 'r') as json_file:\n",
        "#          #읽은 파일을 제이슨 형식으로 형변환\n",
        "#         json_cor = json.load(json_file)\n",
        "#          #제이슨 내부의 데이터 리스트 get\n",
        "#         #json_meta = json_cor.get('metadata')\n",
        "#         json_docu = json_cor.get('document')\n",
        "#         utterid = json_docu[0]['sentence'][1]['id']\n",
        "#         utter = json_docu[0]['sentence'][1]['form']\n",
        "#         utters = json_docu[0]['sentence']\n",
        "#         print(utterid+utter)\n",
        "\n",
        "#        #get한 데이터 리스트 내부에 있는 딕셔너리 꺼내오기\n",
        "#         #for document in json_document:\n",
        "#             #json_paragraph = document.get('original_form')\n",
        "#             #print(json_paragraph) #08번 제이슨부터 13번 제이슨의 paragraph가 다 따짐\n",
        "\n",
        "#         f = open('/content/drive/MyDrive/2차a납품.txt', mode ='a', encoding='utf-8')\n",
        "\n",
        "#         for i in range (len(utters)):\n",
        "#             id = utters[i]['id']\n",
        "#             forms = utters[i]['form']\n",
        "#             #speaker_id = utter[i]['speaker_id']\n",
        "#             f.write(id+'\\t'+forms+'\\n')\n",
        "#         f.close() # 이거 위치 잘 정해야 전체 내용이 적힘 이야....\n",
        "\n",
        "# #SBRW2100000003 문제: 0kb일 경우 파싱 안됨\n"
      ]
    },
    {
      "cell_type": "code",
      "execution_count": null,
      "metadata": {
        "colab": {
          "base_uri": "https://localhost:8080/"
        },
        "id": "4o4Uz1DyQpQz",
        "outputId": "3315952b-45cf-4891-cd48-7ca8cf34e134"
      },
      "outputs": [
        {
          "name": "stdout",
          "output_type": "stream",
          "text": [
            "None\n"
          ]
        }
      ],
      "source": [
        "# # 연습용3\n",
        "# #https://www.python2.net/questions-198850.htm\n",
        "# import os\n",
        "# import json\n",
        "# folderpath = r\"/content/drive/MyDrive/분석말뭉치_문서단위\" # make sure to put the 'r' in front\n",
        "# filepaths  = [os.path.join(folderpath, name) for name in os.listdir(folderpath)]\n",
        "# all_files = []\n",
        "# for path in filepaths:\n",
        "#     with open(path, 'r') as json_file:\n",
        "#          #읽은 파일을 제이슨 형식으로 형변환\n",
        "#         json_cor = json.load(json_file)\n",
        "#          #제이슨 내부의 데이터 리스트 get\n",
        "#         #json_meta = json_cor.get('metadata')\n",
        "#         json_docu = json_cor.get('header')\n",
        "#         print(json_docu)\n",
        "#         #utterid = json_docu[0]['sentence'][1]['id']\n",
        "#         #utter = json_docu[0]['sentence'][1]['form']\n",
        "#         #utters = json_docu[0]['sentence']\n",
        "#         #print(utterid+utter)\n",
        "\n",
        "#        #get한 데이터 리스트 내부에 있는 딕셔너리 꺼내오기\n",
        "#         #for document in json_document:\n",
        "#             #json_paragraph = document.get('original_form')\n",
        "#             #print(json_paragraph) #08번 제이슨부터 13번 제이슨의 paragraph가 다 따짐"
      ]
    }
  ],
  "metadata": {
    "colab": {
      "collapsed_sections": [],
      "name": "news_json_parsing_.ipynb",
      "provenance": [],
      "include_colab_link": true
    },
    "kernelspec": {
      "display_name": "Python 3",
      "name": "python3"
    },
    "language_info": {
      "name": "python"
    }
  },
  "nbformat": 4,
  "nbformat_minor": 0
}