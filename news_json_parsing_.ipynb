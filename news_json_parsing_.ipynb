{
  "cells": [
    {
      "cell_type": "markdown",
      "metadata": {
        "id": "view-in-github",
        "colab_type": "text"
      },
      "source": [
        "<a href=\"https://colab.research.google.com/github/devJwon/economic_sentiment_lexicon/blob/main/news_json_parsing_.ipynb\" target=\"_parent\"><img src=\"https://colab.research.google.com/assets/colab-badge.svg\" alt=\"Open In Colab\"/></a>"
      ]
    },
    {
      "cell_type": "code",
      "execution_count": 1,
      "metadata": {
        "colab": {
          "base_uri": "https://localhost:8080/"
        },
        "id": "WI9wBNRvg_a3",
        "outputId": "2bfcd703-80b6-4409-d807-91c05f2ae041"
      },
      "outputs": [
        {
          "output_type": "stream",
          "name": "stdout",
          "text": [
            "Mounted at /content/drive\n"
          ]
        }
      ],
      "source": [
        "from google.colab import drive\n",
        "drive.mount('/content/drive')"
      ]
    },
    {
      "cell_type": "code",
      "source": [
        "!curl -s https://raw.githubusercontent.com/teddylee777/machine-learning/master/99-Misc/01-Colab/mecab-colab.sh | bash"
      ],
      "metadata": {
        "id": "737zXIo3N8nn"
      },
      "execution_count": null,
      "outputs": []
    },
    {
      "cell_type": "code",
      "source": [
        "import pandas as pd\n",
        "from konlpy.tag import Mecab"
      ],
      "metadata": {
        "id": "ulRR99ZnZSTm"
      },
      "execution_count": 24,
      "outputs": []
    },
    {
      "cell_type": "code",
      "execution_count": null,
      "metadata": {
        "id": "1we7Qwow_qr7"
      },
      "outputs": [],
      "source": [
        "# 자료형이 딕셔너리의 경우 키값으로 찾기 ex. json_meta = json_cor.get('metadata')\n",
        "# 자료형이 리스트+딕셔너리일 경우 우선 리스트 index 값으로 접근 후 키값 입력 ex. title = json_docu[0]['metadata']['title']"
      ]
    },
    {
      "cell_type": "code",
      "execution_count": 7,
      "metadata": {
        "id": "aSy_vSGh7vG9"
      },
      "outputs": [],
      "source": [
        "#https://www.python2.net/questions-198850.htm\n",
        "import os\n",
        "import json\n",
        "folderpath = r\"/content/drive/Othercomputers/내 MacBook Air/lab/paper/news/NIKL_NEWSPAPER_2021_v1.0/국립국어원 신문 말뭉치 2021(버전 1.0)\" # make sure to put the 'r' in front\n",
        "filepaths  = [os.path.join(folderpath, name) for name in os.listdir(folderpath)]\n",
        "all_files = []\n",
        "df = pd.DataFrame(columns=['date', 'news'])\n",
        "for path in filepaths:\n",
        "    with open(path, 'r') as json_file:\n",
        "         #읽은 파일을 제이슨 형식으로 형변환\n",
        "        json_cor = json.load(json_file)\n",
        "        json_id =  json_cor.get('id')\n",
        "        json_meta = json_cor.get('metadata')\n",
        "        json_docu = json_cor.get('document')\n",
        "        for i in range (len(json_docu)):\n",
        "            id = json_docu[i]['id']\n",
        "            title = json_docu[i]['metadata']['title']\n",
        "            sentence = json_docu[i]['paragraph']\n",
        "            topic = json_docu[i]['metadata']['topic']\n",
        "            date = json_docu[i]['metadata']['date']\n",
        "            paragraph = ''\n",
        "            if topic == '경제':\n",
        "                for j in range(len(sentence)):\n",
        "                    sent_form = sentence[j]['form']\n",
        "                    paragraph += sent_form\n",
        "                # print(paragraph)\n",
        "                # print(date)\n",
        "                temp = pd.DataFrame([[date, paragraph]], columns=['date', 'news'])\n",
        "                df = pd.concat([df,temp])\n",
        "        # id = json_docu[0]['id']\n",
        "        # title = json_docu[0]['metadata']['title']\n",
        "        # sentence = json_docu[0]['paragraph']\n",
        "        # sent_id = sentence[0]['id']\n",
        "        # sent_form = sentence[0]['form']\n",
        "        # #json_docu는 document = [...]라는 리스트\n",
        "        # #이 document 리스트는 모든 내용이 리스트에 딕셔너리로 저장된 형태이므로 인덱스가 0밖에 없음\n",
        "\n",
        "        # #sentence = json_docu[0]['sentence']['id']\n",
        "        # print(sent_id+': '+sent_form)\n",
        "\n",
        "########################################\n",
        "        \n",
        "        # f = open('/content/drive/MyDrive/4차납품.txt', mode ='a', encoding='utf-8')\n",
        "        # for i in range (len(json_docu)):\n",
        "        #     id = json_docu[i]['id']\n",
        "        #     title = json_docu[i]['metadata']['title']\n",
        "        #     sentence = json_docu[i]['sentence']\n",
        "        #     for j in range(len(sentence)):\n",
        "        #         sent_id = sentence[j]['id']\n",
        "        #         sent_form = sentence[j]['form']\n",
        "        #         #print(id+':'+title+'\\n'+sent_id+'\\t'+sent_form)\n",
        "        #         f.write('\\t'+id+':'+title+'\\n'+sent_id+':'+sent_form)\n",
        "        # f.close()\n"
      ]
    },
    {
      "cell_type": "code",
      "source": [
        "mecab = Mecab()\n"
      ],
      "metadata": {
        "id": "QYSFrvO2NDeo"
      },
      "execution_count": 25,
      "outputs": []
    },
    {
      "cell_type": "code",
      "source": [
        ""
      ],
      "metadata": {
        "id": "6myCJ9q-C1Ef"
      },
      "execution_count": 26,
      "outputs": []
    },
    {
      "cell_type": "code",
      "execution_count": null,
      "metadata": {
        "colab": {
          "base_uri": "https://localhost:8080/"
        },
        "id": "DXDH1S3W_a8b",
        "outputId": "aa451b45-5382-4977-c7b0-c266fcd10dec"
      },
      "outputs": [
        {
          "data": {
            "text/plain": [
              "544"
            ]
          },
          "execution_count": 27,
          "metadata": {},
          "output_type": "execute_result"
        }
      ],
      "source": [
        "# ###########json 낱장 파싱 코드 #############\n",
        "\n",
        "# #파일 읽어오기\n",
        "# with open('/content/drive/MyDrive/잠시실험/SXLS1902008030.json', 'r') as json_file:\n",
        "#     #읽은 파일을 제이슨 형식으로 형변환\n",
        "#     json_cor = json.load(json_file)\n",
        "#     json_document = json_cor.get('sentence')\n",
        "#     #제이슨 내부의 데이터 리스트 get\n",
        "\n",
        "#     #json_paragraph = json_document.get('paragraph')\n",
        "\n",
        "# #print(json_document)\n"
      ]
    },
    {
      "cell_type": "code",
      "execution_count": null,
      "metadata": {
        "id": "OmRzvwuZBqsF"
      },
      "outputs": [],
      "source": [
        "# 연습용\n",
        "#https://www.python2.net/questions-198850.htm\n",
        "# import os\n",
        "# import json\n",
        "# folderpath = r\"/content/drive/MyDrive/분석말뭉치_문서단위\" # make sure to put the 'r' in front\n",
        "# filepaths  = [os.path.join(folderpath, name) for name in os.listdir(folderpath)]\n",
        "# all_files = []\n",
        "# for path in filepaths:\n",
        "#     with open(path, 'r') as json_file:\n",
        "#          #읽은 파일을 제이슨 형식으로 형변환\n",
        "#         json_cor = json.load(json_file)\n",
        "#          #제이슨 내부의 데이터 리스트 get\n",
        "#         json_meta = json_cor.get('metadata')\n",
        "#         json_docu = json_cor.get('document')\n",
        "#         utter = json_docu['utterance']\n",
        "#         #id = json_docu['id']\n",
        "#        #json_paragraph = json_document.get('paragraph')\n",
        "#        #get한 데이터 리스트 내부에 있는 딕셔너리 꺼내오기\n",
        "#         #for document in json_document:\n",
        "#             #json_paragraph = document.get('original_form')\n",
        "#             #print(json_paragraph) #08번 제이슨부터 13번 제이슨의 paragraph가 다 따짐\n",
        "#         print(utter)\n",
        "#         f = open('/content/drive/MyDrive/2차납품.txt', mode ='a', encoding='utf-8')\n",
        "#         for i in range (len(utter)):\n",
        "#             id = utter[i]['id']\n",
        "#             forms = utter[i]['form']\n",
        "#             speaker_id = utter[i]['speaker_id']\n",
        "#             f.write(id+'\\t'+speaker_id+'\\t'+forms+'\\n')\n",
        "#         f.close()\n",
        "\n",
        "# #SBRW2100000003 문제: 0kb일 경우 파싱 안됨\n"
      ]
    },
    {
      "cell_type": "code",
      "execution_count": null,
      "metadata": {
        "id": "cVcLzMLcM8Az"
      },
      "outputs": [],
      "source": [
        "# # 연습용2\n",
        "# #https://www.python2.net/questions-198850.htm\n",
        "# import os\n",
        "# import json\n",
        "# folderpath = r\"/content/drive/MyDrive/분석말뭉치_문서단위\" # make sure to put the 'r' in front\n",
        "# filepaths  = [os.path.join(folderpath, name) for name in os.listdir(folderpath)]\n",
        "# all_files = []\n",
        "# for path in filepaths:\n",
        "#     with open(path, 'r') as json_file:\n",
        "#          #읽은 파일을 제이슨 형식으로 형변환\n",
        "#         json_cor = json.load(json_file)\n",
        "#          #제이슨 내부의 데이터 리스트 get\n",
        "#         #json_meta = json_cor.get('metadata')\n",
        "#         json_docu = json_cor.get('document')\n",
        "#         utterid = json_docu[0]['sentence'][1]['id']\n",
        "#         utter = json_docu[0]['sentence'][1]['form']\n",
        "#         utters = json_docu[0]['sentence']\n",
        "#         print(utterid+utter)\n",
        "\n",
        "#        #get한 데이터 리스트 내부에 있는 딕셔너리 꺼내오기\n",
        "#         #for document in json_document:\n",
        "#             #json_paragraph = document.get('original_form')\n",
        "#             #print(json_paragraph) #08번 제이슨부터 13번 제이슨의 paragraph가 다 따짐\n",
        "\n",
        "#         f = open('/content/drive/MyDrive/2차a납품.txt', mode ='a', encoding='utf-8')\n",
        "\n",
        "#         for i in range (len(utters)):\n",
        "#             id = utters[i]['id']\n",
        "#             forms = utters[i]['form']\n",
        "#             #speaker_id = utter[i]['speaker_id']\n",
        "#             f.write(id+'\\t'+forms+'\\n')\n",
        "#         f.close() # 이거 위치 잘 정해야 전체 내용이 적힘 이야....\n",
        "\n",
        "# #SBRW2100000003 문제: 0kb일 경우 파싱 안됨\n"
      ]
    },
    {
      "cell_type": "code",
      "execution_count": null,
      "metadata": {
        "colab": {
          "base_uri": "https://localhost:8080/"
        },
        "id": "4o4Uz1DyQpQz",
        "outputId": "3315952b-45cf-4891-cd48-7ca8cf34e134"
      },
      "outputs": [
        {
          "name": "stdout",
          "output_type": "stream",
          "text": [
            "None\n"
          ]
        }
      ],
      "source": [
        "# # 연습용3\n",
        "# #https://www.python2.net/questions-198850.htm\n",
        "# import os\n",
        "# import json\n",
        "# folderpath = r\"/content/drive/MyDrive/분석말뭉치_문서단위\" # make sure to put the 'r' in front\n",
        "# filepaths  = [os.path.join(folderpath, name) for name in os.listdir(folderpath)]\n",
        "# all_files = []\n",
        "# for path in filepaths:\n",
        "#     with open(path, 'r') as json_file:\n",
        "#          #읽은 파일을 제이슨 형식으로 형변환\n",
        "#         json_cor = json.load(json_file)\n",
        "#          #제이슨 내부의 데이터 리스트 get\n",
        "#         #json_meta = json_cor.get('metadata')\n",
        "#         json_docu = json_cor.get('header')\n",
        "#         print(json_docu)\n",
        "#         #utterid = json_docu[0]['sentence'][1]['id']\n",
        "#         #utter = json_docu[0]['sentence'][1]['form']\n",
        "#         #utters = json_docu[0]['sentence']\n",
        "#         #print(utterid+utter)\n",
        "\n",
        "#        #get한 데이터 리스트 내부에 있는 딕셔너리 꺼내오기\n",
        "#         #for document in json_document:\n",
        "#             #json_paragraph = document.get('original_form')\n",
        "#             #print(json_paragraph) #08번 제이슨부터 13번 제이슨의 paragraph가 다 따짐"
      ]
    }
  ],
  "metadata": {
    "colab": {
      "collapsed_sections": [],
      "name": "news_json_parsing_.ipynb",
      "provenance": [],
      "include_colab_link": true
    },
    "kernelspec": {
      "display_name": "Python 3",
      "name": "python3"
    },
    "language_info": {
      "name": "python"
    }
  },
  "nbformat": 4,
  "nbformat_minor": 0
}