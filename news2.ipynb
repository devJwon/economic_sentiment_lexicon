{
  "cells": [
    {
      "cell_type": "markdown",
      "metadata": {
        "id": "view-in-github",
        "colab_type": "text"
      },
      "source": [
        "<a href=\"https://colab.research.google.com/github/devJwon/economic_sentiment_lexicon/blob/main/news2.ipynb\" target=\"_parent\"><img src=\"https://colab.research.google.com/assets/colab-badge.svg\" alt=\"Open In Colab\"/></a>"
      ]
    },
    {
      "cell_type": "code",
      "execution_count": 1,
      "metadata": {
        "colab": {
          "base_uri": "https://localhost:8080/"
        },
        "id": "WI9wBNRvg_a3",
        "outputId": "a3bb883a-8a2f-4079-fa99-1aa85e6704f7"
      },
      "outputs": [
        {
          "output_type": "stream",
          "name": "stdout",
          "text": [
            "Mounted at /content/drive\n"
          ]
        }
      ],
      "source": [
        "from google.colab import drive\n",
        "drive.mount('/content/drive')"
      ]
    },
    {
      "cell_type": "code",
      "source": [
        "import pandas as pd\n",
        "df = pd.read_csv('/content/drive/Othercomputers/내 MacBook Air/lab/paper/code/kospi_new.csv')"
      ],
      "metadata": {
        "id": "9n9zbGahv9t0"
      },
      "execution_count": 10,
      "outputs": []
    },
    {
      "cell_type": "markdown",
      "source": [
        "## JSON file parsing"
      ],
      "metadata": {
        "id": "Z3o3sNX4pjIa"
      }
    },
    {
      "cell_type": "code",
      "execution_count": null,
      "metadata": {
        "id": "aSy_vSGh7vG9"
      },
      "outputs": [],
      "source": [
        "# 모두의 말뭉치 json file parsing해서 경제 기사만 날짜와 본문을 pandas dataframe 형식으로 추출\n",
        "import os\n",
        "import json\n",
        "import pandas as pd\n",
        "\n",
        "folderpath = r\"/content/drive/Othercomputers/내 MacBook Air/lab/paper/news/NIKL_NEWSPAPER_2021_v1.0/국립국어원 신문 말뭉치 2021(버전 1.0)\" # make sure to put the 'r' in front\n",
        "filepaths  = [os.path.join(folderpath, name) for name in os.listdir(folderpath)]\n",
        "all_files = []\n",
        "df = pd.DataFrame(columns=['date', 'news'])\n",
        "\n",
        "for path in filepaths:\n",
        "    with open(path, 'r') as json_file:\n",
        "         #읽은 파일을 제이슨 형식으로 형변환\n",
        "        json_cor = json.load(json_file)\n",
        "        json_id =  json_cor.get('id')\n",
        "        json_meta = json_cor.get('metadata')\n",
        "        json_docu = json_cor.get('document')\n",
        "        for i in range (len(json_docu)):\n",
        "            id = json_docu[i]['id']\n",
        "            title = json_docu[i]['metadata']['title']\n",
        "            sentence = json_docu[i]['paragraph']\n",
        "            topic = json_docu[i]['metadata']['topic']\n",
        "            date = json_docu[i]['metadata']['date']\n",
        "            paragraph = ''\n",
        "            if topic == '경제':\n",
        "                for j in range(len(sentence)):\n",
        "                    sent_form = sentence[j]['form']\n",
        "                    paragraph += sent_form\n",
        "                temp = pd.DataFrame([[date, paragraph]], columns=['date', 'news'])\n",
        "                df = pd.concat([df,temp])\n"
      ]
    },
    {
      "cell_type": "code",
      "source": [
        "# dataframe에서 '코스피'단어가 포함된 것들만 추출해서 kospi_news로 만들\n",
        "text_series = news['news']\n",
        "s = text_series.str.contains('코스피')\n",
        "kospi_news = news[s]\n",
        "kospi_news = kospi_news.reset_index()\n",
        "kospi_news = kospi_news[['date', 'news']]\n",
        "kospi_news.head()\n",
        "# kospi_news.to_csv('/content/drive/Othercomputers/내 MacBook Air/lab/paper/code/kospi_new.csv') #csv파일로 중간 저장"
      ],
      "metadata": {
        "id": "6myCJ9q-C1Ef"
      },
      "execution_count": null,
      "outputs": []
    },
    {
      "cell_type": "markdown",
      "source": [
        "## KOSPI 2020 data 받아오기 "
      ],
      "metadata": {
        "id": "_3UF6PFst1Ad"
      }
    },
    {
      "cell_type": "code",
      "source": [
        "# finance-datareader로 2020년 코스피 데이터를 dataframe으로\n",
        "!pip install finance-datareader\n",
        "import FinanceDataReader as fdr\n",
        "stock = fdr.DataReader('KS11','2020','20210101')"
      ],
      "metadata": {
        "id": "0sdRj4RMFcvc",
        "outputId": "5a394328-e679-402b-9ec1-b00a9787dc53",
        "colab": {
          "base_uri": "https://localhost:8080/"
        }
      },
      "execution_count": 5,
      "outputs": [
        {
          "output_type": "stream",
          "name": "stdout",
          "text": [
            "Looking in indexes: https://pypi.org/simple, https://us-python.pkg.dev/colab-wheels/public/simple/\n",
            "Collecting finance-datareader\n",
            "  Downloading finance_datareader-0.9.33-py3-none-any.whl (48 kB)\n",
            "\u001b[K     |████████████████████████████████| 48 kB 5.7 MB/s \n",
            "\u001b[?25hRequirement already satisfied: tqdm in /usr/local/lib/python3.7/dist-packages (from finance-datareader) (4.64.0)\n",
            "Requirement already satisfied: pandas>=0.19.2 in /usr/local/lib/python3.7/dist-packages (from finance-datareader) (1.3.5)\n",
            "Collecting requests-file\n",
            "  Downloading requests_file-1.5.1-py2.py3-none-any.whl (3.7 kB)\n",
            "Requirement already satisfied: requests>=2.3.0 in /usr/local/lib/python3.7/dist-packages (from finance-datareader) (2.23.0)\n",
            "Requirement already satisfied: lxml in /usr/local/lib/python3.7/dist-packages (from finance-datareader) (4.2.6)\n",
            "Requirement already satisfied: pytz>=2017.3 in /usr/local/lib/python3.7/dist-packages (from pandas>=0.19.2->finance-datareader) (2022.1)\n",
            "Requirement already satisfied: python-dateutil>=2.7.3 in /usr/local/lib/python3.7/dist-packages (from pandas>=0.19.2->finance-datareader) (2.8.2)\n",
            "Requirement already satisfied: numpy>=1.17.3 in /usr/local/lib/python3.7/dist-packages (from pandas>=0.19.2->finance-datareader) (1.21.6)\n",
            "Requirement already satisfied: six>=1.5 in /usr/local/lib/python3.7/dist-packages (from python-dateutil>=2.7.3->pandas>=0.19.2->finance-datareader) (1.15.0)\n",
            "Requirement already satisfied: urllib3!=1.25.0,!=1.25.1,<1.26,>=1.21.1 in /usr/local/lib/python3.7/dist-packages (from requests>=2.3.0->finance-datareader) (1.24.3)\n",
            "Requirement already satisfied: certifi>=2017.4.17 in /usr/local/lib/python3.7/dist-packages (from requests>=2.3.0->finance-datareader) (2022.5.18.1)\n",
            "Requirement already satisfied: chardet<4,>=3.0.2 in /usr/local/lib/python3.7/dist-packages (from requests>=2.3.0->finance-datareader) (3.0.4)\n",
            "Requirement already satisfied: idna<3,>=2.5 in /usr/local/lib/python3.7/dist-packages (from requests>=2.3.0->finance-datareader) (2.10)\n",
            "Installing collected packages: requests-file, finance-datareader\n",
            "Successfully installed finance-datareader-0.9.33 requests-file-1.5.1\n"
          ]
        }
      ]
    },
    {
      "cell_type": "code",
      "source": [
        "df = df[['date','news']]\n",
        "df['date'] = pd.to_datetime(df['date'], format='%Y%m%d')\n",
        "df1 = df.set_index('date')"
      ],
      "metadata": {
        "id": "ggQkfe3zPoGc"
      },
      "execution_count": null,
      "outputs": []
    },
    {
      "cell_type": "code",
      "source": [
        "inner_join = pd.merge(stock, \n",
        "                      df1, \n",
        "                      how ='inner',\n",
        "                      left_index=True, right_index=True)"
      ],
      "metadata": {
        "id": "xs0LgNmQw-dv",
        "outputId": "0921231d-50cd-4dda-8aa1-f5cc64f9331e",
        "colab": {
          "base_uri": "https://localhost:8080/",
          "height": 0
        }
      },
      "execution_count": 25,
      "outputs": [
        {
          "output_type": "execute_result",
          "data": {
            "text/plain": [
              "'증시 수익률 효자 IT…\"54% 올랐다\"지난해 증시 수익률 효자가 IT섹터인 것으로 조사됐다. 연간 수익률은 40%에 육박했다. 반도체 시장 개선에 대한 기대감이 삼성전자와 SK하이닉스의 주가에 선반영됐고, 5G 시대의 개막 속에 삼성SDI 등이 탄탄한 오름세를 보였다.2일 한화투자증권 리서치센터에 따르면 지난해 IT는 글로벌 주식시장에서 약 47%의 수익률을 기록하면서 시장을 주도했다. 코스피 시장 내 IT 상승률 역시 32.8%를 기록했다.코스피와 코스닥 시장의 업종별 대표 종목으로 구성한 KRX섹터지수 역시 반도체의 상승세가 두드러진다. 지난해 KRX 반도체 지수 수익률은 54.48%에 육박했다. KRX 정보기술 지수는 28.47% 증가하면서 수익률 2위에 올랐다.특히 SK하이닉스가 강세를 보였다. 지난해 SK하이닉스 주가는 55.54% 뛰어올랐다. KRX 반도체 지수 내 SK하이닉스 비중은 19.79%다. 원익IPS(78.36%), 고영(27.88%) 등도 급등했다.정보기술 지수에서는 삼성전자와 삼성SDI 등이 지난해 각각 44.19%, 7.76%의 오름세를 기록하면서 탄탄한 수익을 냈다.다만 IT를 제외한 국내 주식시장 수익률은 글로벌 흐름과 상반됐다. 섹터별로 보면 글로벌 시장에서 △산업재 26% △커뮤니케이션서비스 25% △경기소비재 24% △헬스케어 23% △금융 22% △필수소비재 20% △소재 19% △유틸리티 18% △에너지 8% 등은 수익을 냈다.반면 국내 주식시장은 △산업재 △헬스케어 △필수소비재 △소재 △유틸리티 △에너지 등은 최대 20%에서 최저 5%대 손실률을 기록했다. 수익을 낸 섹터는 커뮤니케이션과 경기소비재로 이마저도 1~3% 수준에 머물렀다.국가별 수익률 순위를 봐도 하위권에 머물렀다. 지난해 국내 주식시장 수익률은 약 7%대 상승률에 그쳤다. 이는 말레이시아와 인도네시아 다음으로 최하위 수준이다. 수익률 상위권에 랭크된 중국과 브라질은 30%대 수익률을 내며 견고한 성장률을 과시했다.김수연 한화투자증권 연구원은 “지난해 주식시장 국가별 수익률은 전반적으로 선진국 주식시장이 아웃퍼폼했으나 국가별로 보면 중국, 브라질 등 신흥국 주가 상승이 두드러졌다”면서 “중국은 MSCI 편입이슈로 연초 강하게 상승했고 브라질은 연금개혁 기대, 재정수지 개선 등으로 상승했다”고 설명했다.안현국 한화투자증권 연구원은 “내년 코스의 연간 순이익 예상치는 122조2000억원 수준을 기록할 것”이라며 “반도체, 비철/목재, 상사/자본재, IT H/W 등이 상승할 것”이라고 전망했다. 상승 종목으로는 SK하이닉스, 삼성화재, LG, 유한양행 등을 하락 종목으로는 롯데케미칼, GS, SK이노베이션, LG화학 등을 꼽았다.'"
            ],
            "application/vnd.google.colaboratory.intrinsic+json": {
              "type": "string"
            }
          },
          "metadata": {},
          "execution_count": 25
        }
      ]
    },
    {
      "cell_type": "code",
      "source": [
        "inner_join.head()"
      ],
      "metadata": {
        "id": "0SYfYR2jB997",
        "outputId": "ffed23db-c810-4c9d-f680-706b1e92435a",
        "colab": {
          "base_uri": "https://localhost:8080/",
          "height": 0
        }
      },
      "execution_count": 27,
      "outputs": [
        {
          "output_type": "execute_result",
          "data": {
            "text/plain": [
              "              Close     Open     High      Low       Volume  Change  \\\n",
              "2020-01-02  2175.17  2201.21  2202.32  2171.84  494680000.0 -0.0102   \n",
              "2020-01-02  2175.17  2201.21  2202.32  2171.84  494680000.0 -0.0102   \n",
              "2020-01-02  2175.17  2201.21  2202.32  2171.84  494680000.0 -0.0102   \n",
              "2020-01-02  2175.17  2201.21  2202.32  2171.84  494680000.0 -0.0102   \n",
              "2020-01-02  2175.17  2201.21  2202.32  2171.84  494680000.0 -0.0102   \n",
              "\n",
              "                                                         news  \n",
              "2020-01-02  증시 수익률 효자 IT…\"54% 올랐다\"지난해 증시 수익률 효자가 IT섹터인 것으로...  \n",
              "2020-01-02  2020년 증시 흔들 대내외 변수보니…결국 트럼프올해 국내 증시에 커다란 영향을 미...  \n",
              "2020-01-02  수출 개선·실적 회복 기대감↑...\"코스피 '1월 효과' 주목\"국내증시가 2020년...  \n",
              "2020-01-02  \"지점 통폐합하고, 리서치 줄이고'...비용감축 나선 증권사증권사가 지점을 줄이는 ...  \n",
              "2020-01-02  코스피, 기관·외인 '팔자'에 하락 전환…\"차익 실현 매물\"새해 첫 거래일을 맞아 ...  "
            ],
            "text/html": [
              "\n",
              "  <div id=\"df-c7e8cad6-2446-48ae-871f-59db27659d19\">\n",
              "    <div class=\"colab-df-container\">\n",
              "      <div>\n",
              "<style scoped>\n",
              "    .dataframe tbody tr th:only-of-type {\n",
              "        vertical-align: middle;\n",
              "    }\n",
              "\n",
              "    .dataframe tbody tr th {\n",
              "        vertical-align: top;\n",
              "    }\n",
              "\n",
              "    .dataframe thead th {\n",
              "        text-align: right;\n",
              "    }\n",
              "</style>\n",
              "<table border=\"1\" class=\"dataframe\">\n",
              "  <thead>\n",
              "    <tr style=\"text-align: right;\">\n",
              "      <th></th>\n",
              "      <th>Close</th>\n",
              "      <th>Open</th>\n",
              "      <th>High</th>\n",
              "      <th>Low</th>\n",
              "      <th>Volume</th>\n",
              "      <th>Change</th>\n",
              "      <th>news</th>\n",
              "    </tr>\n",
              "  </thead>\n",
              "  <tbody>\n",
              "    <tr>\n",
              "      <th>2020-01-02</th>\n",
              "      <td>2175.17</td>\n",
              "      <td>2201.21</td>\n",
              "      <td>2202.32</td>\n",
              "      <td>2171.84</td>\n",
              "      <td>494680000.0</td>\n",
              "      <td>-0.0102</td>\n",
              "      <td>증시 수익률 효자 IT…\"54% 올랐다\"지난해 증시 수익률 효자가 IT섹터인 것으로...</td>\n",
              "    </tr>\n",
              "    <tr>\n",
              "      <th>2020-01-02</th>\n",
              "      <td>2175.17</td>\n",
              "      <td>2201.21</td>\n",
              "      <td>2202.32</td>\n",
              "      <td>2171.84</td>\n",
              "      <td>494680000.0</td>\n",
              "      <td>-0.0102</td>\n",
              "      <td>2020년 증시 흔들 대내외 변수보니…결국 트럼프올해 국내 증시에 커다란 영향을 미...</td>\n",
              "    </tr>\n",
              "    <tr>\n",
              "      <th>2020-01-02</th>\n",
              "      <td>2175.17</td>\n",
              "      <td>2201.21</td>\n",
              "      <td>2202.32</td>\n",
              "      <td>2171.84</td>\n",
              "      <td>494680000.0</td>\n",
              "      <td>-0.0102</td>\n",
              "      <td>수출 개선·실적 회복 기대감↑...\"코스피 '1월 효과' 주목\"국내증시가 2020년...</td>\n",
              "    </tr>\n",
              "    <tr>\n",
              "      <th>2020-01-02</th>\n",
              "      <td>2175.17</td>\n",
              "      <td>2201.21</td>\n",
              "      <td>2202.32</td>\n",
              "      <td>2171.84</td>\n",
              "      <td>494680000.0</td>\n",
              "      <td>-0.0102</td>\n",
              "      <td>\"지점 통폐합하고, 리서치 줄이고'...비용감축 나선 증권사증권사가 지점을 줄이는 ...</td>\n",
              "    </tr>\n",
              "    <tr>\n",
              "      <th>2020-01-02</th>\n",
              "      <td>2175.17</td>\n",
              "      <td>2201.21</td>\n",
              "      <td>2202.32</td>\n",
              "      <td>2171.84</td>\n",
              "      <td>494680000.0</td>\n",
              "      <td>-0.0102</td>\n",
              "      <td>코스피, 기관·외인 '팔자'에 하락 전환…\"차익 실현 매물\"새해 첫 거래일을 맞아 ...</td>\n",
              "    </tr>\n",
              "  </tbody>\n",
              "</table>\n",
              "</div>\n",
              "      <button class=\"colab-df-convert\" onclick=\"convertToInteractive('df-c7e8cad6-2446-48ae-871f-59db27659d19')\"\n",
              "              title=\"Convert this dataframe to an interactive table.\"\n",
              "              style=\"display:none;\">\n",
              "        \n",
              "  <svg xmlns=\"http://www.w3.org/2000/svg\" height=\"24px\"viewBox=\"0 0 24 24\"\n",
              "       width=\"24px\">\n",
              "    <path d=\"M0 0h24v24H0V0z\" fill=\"none\"/>\n",
              "    <path d=\"M18.56 5.44l.94 2.06.94-2.06 2.06-.94-2.06-.94-.94-2.06-.94 2.06-2.06.94zm-11 1L8.5 8.5l.94-2.06 2.06-.94-2.06-.94L8.5 2.5l-.94 2.06-2.06.94zm10 10l.94 2.06.94-2.06 2.06-.94-2.06-.94-.94-2.06-.94 2.06-2.06.94z\"/><path d=\"M17.41 7.96l-1.37-1.37c-.4-.4-.92-.59-1.43-.59-.52 0-1.04.2-1.43.59L10.3 9.45l-7.72 7.72c-.78.78-.78 2.05 0 2.83L4 21.41c.39.39.9.59 1.41.59.51 0 1.02-.2 1.41-.59l7.78-7.78 2.81-2.81c.8-.78.8-2.07 0-2.86zM5.41 20L4 18.59l7.72-7.72 1.47 1.35L5.41 20z\"/>\n",
              "  </svg>\n",
              "      </button>\n",
              "      \n",
              "  <style>\n",
              "    .colab-df-container {\n",
              "      display:flex;\n",
              "      flex-wrap:wrap;\n",
              "      gap: 12px;\n",
              "    }\n",
              "\n",
              "    .colab-df-convert {\n",
              "      background-color: #E8F0FE;\n",
              "      border: none;\n",
              "      border-radius: 50%;\n",
              "      cursor: pointer;\n",
              "      display: none;\n",
              "      fill: #1967D2;\n",
              "      height: 32px;\n",
              "      padding: 0 0 0 0;\n",
              "      width: 32px;\n",
              "    }\n",
              "\n",
              "    .colab-df-convert:hover {\n",
              "      background-color: #E2EBFA;\n",
              "      box-shadow: 0px 1px 2px rgba(60, 64, 67, 0.3), 0px 1px 3px 1px rgba(60, 64, 67, 0.15);\n",
              "      fill: #174EA6;\n",
              "    }\n",
              "\n",
              "    [theme=dark] .colab-df-convert {\n",
              "      background-color: #3B4455;\n",
              "      fill: #D2E3FC;\n",
              "    }\n",
              "\n",
              "    [theme=dark] .colab-df-convert:hover {\n",
              "      background-color: #434B5C;\n",
              "      box-shadow: 0px 1px 3px 1px rgba(0, 0, 0, 0.15);\n",
              "      filter: drop-shadow(0px 1px 2px rgba(0, 0, 0, 0.3));\n",
              "      fill: #FFFFFF;\n",
              "    }\n",
              "  </style>\n",
              "\n",
              "      <script>\n",
              "        const buttonEl =\n",
              "          document.querySelector('#df-c7e8cad6-2446-48ae-871f-59db27659d19 button.colab-df-convert');\n",
              "        buttonEl.style.display =\n",
              "          google.colab.kernel.accessAllowed ? 'block' : 'none';\n",
              "\n",
              "        async function convertToInteractive(key) {\n",
              "          const element = document.querySelector('#df-c7e8cad6-2446-48ae-871f-59db27659d19');\n",
              "          const dataTable =\n",
              "            await google.colab.kernel.invokeFunction('convertToInteractive',\n",
              "                                                     [key], {});\n",
              "          if (!dataTable) return;\n",
              "\n",
              "          const docLinkHtml = 'Like what you see? Visit the ' +\n",
              "            '<a target=\"_blank\" href=https://colab.research.google.com/notebooks/data_table.ipynb>data table notebook</a>'\n",
              "            + ' to learn more about interactive tables.';\n",
              "          element.innerHTML = '';\n",
              "          dataTable['output_type'] = 'display_data';\n",
              "          await google.colab.output.renderOutput(dataTable, element);\n",
              "          const docLink = document.createElement('div');\n",
              "          docLink.innerHTML = docLinkHtml;\n",
              "          element.appendChild(docLink);\n",
              "        }\n",
              "      </script>\n",
              "    </div>\n",
              "  </div>\n",
              "  "
            ]
          },
          "metadata": {},
          "execution_count": 27
        }
      ]
    },
    {
      "cell_type": "code",
      "source": [
        "df2 = inner_join[['Change', 'news']]\n",
        "df2.head()"
      ],
      "metadata": {
        "id": "5r9KYw01xLCV",
        "outputId": "0fefac5c-ab94-4db6-a48f-1f19521ec677",
        "colab": {
          "base_uri": "https://localhost:8080/",
          "height": 0
        }
      },
      "execution_count": 29,
      "outputs": [
        {
          "output_type": "execute_result",
          "data": {
            "text/plain": [
              "            Change                                               news\n",
              "2020-01-02 -0.0102  증시 수익률 효자 IT…\"54% 올랐다\"지난해 증시 수익률 효자가 IT섹터인 것으로...\n",
              "2020-01-02 -0.0102  2020년 증시 흔들 대내외 변수보니…결국 트럼프올해 국내 증시에 커다란 영향을 미...\n",
              "2020-01-02 -0.0102  수출 개선·실적 회복 기대감↑...\"코스피 '1월 효과' 주목\"국내증시가 2020년...\n",
              "2020-01-02 -0.0102  \"지점 통폐합하고, 리서치 줄이고'...비용감축 나선 증권사증권사가 지점을 줄이는 ...\n",
              "2020-01-02 -0.0102  코스피, 기관·외인 '팔자'에 하락 전환…\"차익 실현 매물\"새해 첫 거래일을 맞아 ..."
            ],
            "text/html": [
              "\n",
              "  <div id=\"df-e63d8c1a-46e4-4c5a-8148-af38ca692428\">\n",
              "    <div class=\"colab-df-container\">\n",
              "      <div>\n",
              "<style scoped>\n",
              "    .dataframe tbody tr th:only-of-type {\n",
              "        vertical-align: middle;\n",
              "    }\n",
              "\n",
              "    .dataframe tbody tr th {\n",
              "        vertical-align: top;\n",
              "    }\n",
              "\n",
              "    .dataframe thead th {\n",
              "        text-align: right;\n",
              "    }\n",
              "</style>\n",
              "<table border=\"1\" class=\"dataframe\">\n",
              "  <thead>\n",
              "    <tr style=\"text-align: right;\">\n",
              "      <th></th>\n",
              "      <th>Change</th>\n",
              "      <th>news</th>\n",
              "    </tr>\n",
              "  </thead>\n",
              "  <tbody>\n",
              "    <tr>\n",
              "      <th>2020-01-02</th>\n",
              "      <td>-0.0102</td>\n",
              "      <td>증시 수익률 효자 IT…\"54% 올랐다\"지난해 증시 수익률 효자가 IT섹터인 것으로...</td>\n",
              "    </tr>\n",
              "    <tr>\n",
              "      <th>2020-01-02</th>\n",
              "      <td>-0.0102</td>\n",
              "      <td>2020년 증시 흔들 대내외 변수보니…결국 트럼프올해 국내 증시에 커다란 영향을 미...</td>\n",
              "    </tr>\n",
              "    <tr>\n",
              "      <th>2020-01-02</th>\n",
              "      <td>-0.0102</td>\n",
              "      <td>수출 개선·실적 회복 기대감↑...\"코스피 '1월 효과' 주목\"국내증시가 2020년...</td>\n",
              "    </tr>\n",
              "    <tr>\n",
              "      <th>2020-01-02</th>\n",
              "      <td>-0.0102</td>\n",
              "      <td>\"지점 통폐합하고, 리서치 줄이고'...비용감축 나선 증권사증권사가 지점을 줄이는 ...</td>\n",
              "    </tr>\n",
              "    <tr>\n",
              "      <th>2020-01-02</th>\n",
              "      <td>-0.0102</td>\n",
              "      <td>코스피, 기관·외인 '팔자'에 하락 전환…\"차익 실현 매물\"새해 첫 거래일을 맞아 ...</td>\n",
              "    </tr>\n",
              "  </tbody>\n",
              "</table>\n",
              "</div>\n",
              "      <button class=\"colab-df-convert\" onclick=\"convertToInteractive('df-e63d8c1a-46e4-4c5a-8148-af38ca692428')\"\n",
              "              title=\"Convert this dataframe to an interactive table.\"\n",
              "              style=\"display:none;\">\n",
              "        \n",
              "  <svg xmlns=\"http://www.w3.org/2000/svg\" height=\"24px\"viewBox=\"0 0 24 24\"\n",
              "       width=\"24px\">\n",
              "    <path d=\"M0 0h24v24H0V0z\" fill=\"none\"/>\n",
              "    <path d=\"M18.56 5.44l.94 2.06.94-2.06 2.06-.94-2.06-.94-.94-2.06-.94 2.06-2.06.94zm-11 1L8.5 8.5l.94-2.06 2.06-.94-2.06-.94L8.5 2.5l-.94 2.06-2.06.94zm10 10l.94 2.06.94-2.06 2.06-.94-2.06-.94-.94-2.06-.94 2.06-2.06.94z\"/><path d=\"M17.41 7.96l-1.37-1.37c-.4-.4-.92-.59-1.43-.59-.52 0-1.04.2-1.43.59L10.3 9.45l-7.72 7.72c-.78.78-.78 2.05 0 2.83L4 21.41c.39.39.9.59 1.41.59.51 0 1.02-.2 1.41-.59l7.78-7.78 2.81-2.81c.8-.78.8-2.07 0-2.86zM5.41 20L4 18.59l7.72-7.72 1.47 1.35L5.41 20z\"/>\n",
              "  </svg>\n",
              "      </button>\n",
              "      \n",
              "  <style>\n",
              "    .colab-df-container {\n",
              "      display:flex;\n",
              "      flex-wrap:wrap;\n",
              "      gap: 12px;\n",
              "    }\n",
              "\n",
              "    .colab-df-convert {\n",
              "      background-color: #E8F0FE;\n",
              "      border: none;\n",
              "      border-radius: 50%;\n",
              "      cursor: pointer;\n",
              "      display: none;\n",
              "      fill: #1967D2;\n",
              "      height: 32px;\n",
              "      padding: 0 0 0 0;\n",
              "      width: 32px;\n",
              "    }\n",
              "\n",
              "    .colab-df-convert:hover {\n",
              "      background-color: #E2EBFA;\n",
              "      box-shadow: 0px 1px 2px rgba(60, 64, 67, 0.3), 0px 1px 3px 1px rgba(60, 64, 67, 0.15);\n",
              "      fill: #174EA6;\n",
              "    }\n",
              "\n",
              "    [theme=dark] .colab-df-convert {\n",
              "      background-color: #3B4455;\n",
              "      fill: #D2E3FC;\n",
              "    }\n",
              "\n",
              "    [theme=dark] .colab-df-convert:hover {\n",
              "      background-color: #434B5C;\n",
              "      box-shadow: 0px 1px 3px 1px rgba(0, 0, 0, 0.15);\n",
              "      filter: drop-shadow(0px 1px 2px rgba(0, 0, 0, 0.3));\n",
              "      fill: #FFFFFF;\n",
              "    }\n",
              "  </style>\n",
              "\n",
              "      <script>\n",
              "        const buttonEl =\n",
              "          document.querySelector('#df-e63d8c1a-46e4-4c5a-8148-af38ca692428 button.colab-df-convert');\n",
              "        buttonEl.style.display =\n",
              "          google.colab.kernel.accessAllowed ? 'block' : 'none';\n",
              "\n",
              "        async function convertToInteractive(key) {\n",
              "          const element = document.querySelector('#df-e63d8c1a-46e4-4c5a-8148-af38ca692428');\n",
              "          const dataTable =\n",
              "            await google.colab.kernel.invokeFunction('convertToInteractive',\n",
              "                                                     [key], {});\n",
              "          if (!dataTable) return;\n",
              "\n",
              "          const docLinkHtml = 'Like what you see? Visit the ' +\n",
              "            '<a target=\"_blank\" href=https://colab.research.google.com/notebooks/data_table.ipynb>data table notebook</a>'\n",
              "            + ' to learn more about interactive tables.';\n",
              "          element.innerHTML = '';\n",
              "          dataTable['output_type'] = 'display_data';\n",
              "          await google.colab.output.renderOutput(dataTable, element);\n",
              "          const docLink = document.createElement('div');\n",
              "          docLink.innerHTML = docLinkHtml;\n",
              "          element.appendChild(docLink);\n",
              "        }\n",
              "      </script>\n",
              "    </div>\n",
              "  </div>\n",
              "  "
            ]
          },
          "metadata": {},
          "execution_count": 29
        }
      ]
    },
    {
      "cell_type": "markdown",
      "source": [
        "## preprocessing(mecab)"
      ],
      "metadata": {
        "id": "oX9hPHwyJab8"
      }
    },
    {
      "cell_type": "code",
      "source": [
        "# mecab import 코드\n",
        "!curl -s https://raw.githubusercontent.com/teddylee777/machine-learning/master/99-Misc/01-Colab/mecab-colab.sh | bash\n",
        "from konlpy.tag import Mecab\n",
        "mecab = Mecab()"
      ],
      "metadata": {
        "id": "737zXIo3N8nn"
      },
      "execution_count": null,
      "outputs": []
    },
    {
      "cell_type": "code",
      "source": [
        ""
      ],
      "metadata": {
        "id": "ksHDwLtBDcx1"
      },
      "execution_count": null,
      "outputs": []
    }
  ],
  "metadata": {
    "colab": {
      "collapsed_sections": [],
      "name": "news_json_parsing_.ipynb",
      "provenance": [],
      "include_colab_link": true
    },
    "kernelspec": {
      "display_name": "Python 3",
      "name": "python3"
    },
    "language_info": {
      "name": "python"
    }
  },
  "nbformat": 4,
  "nbformat_minor": 0
}